{
 "cells": [
  {
   "cell_type": "code",
   "execution_count": 1,
   "metadata": {},
   "outputs": [],
   "source": [
    "import numpy as np\n",
    "import matplotlib.pyplot as plt\n",
    "import random"
   ]
  },
  {
   "cell_type": "code",
   "execution_count": 3,
   "metadata": {},
   "outputs": [],
   "source": [
    "n_tasks = 2000\n",
    "n_pulls = 1000\n",
    "k = 10\n",
    "q_true = np.random.normal(0,1,(n_tasks,k))# True q* for each arm. Given by a random normal distribution\n",
    "q_optimal = np.argmax(q_true,1)"
   ]
  },
  {
   "cell_type": "code",
   "execution_count": 5,
   "metadata": {},
   "outputs": [],
   "source": [
    "epsilon=[0,0.01,0.1,0.2,1] # epsilon in epsilon-greedy method\n",
    "col=['r','g','k','b','y']\n",
    "\n"
   ]
  },
  {
   "cell_type": "code",
   "execution_count": null,
   "metadata": {},
   "outputs": [],
   "source": [
    "for eps in range(len(epsilon)):\n",
    "    print(\"Current Epsilon: \",eps)\n",
    "    Q = np.zeros(n_tasks,k) #Estimate of action value of each arm initialized to 0\n",
    "    N = np.ones(n_tasks,k) #No. of times an arm is pulled for each task\n",
    "    Qi = np.random.normal(q_true,1) #Reward after all arms are pulled once\n",
    "    \n",
    "    R_eps=[]\n",
    "    R_eps.append(0)\n",
    "    R_eps.append(np.mean(Qi))\n",
    "    R_eps_opt=[]\n",
    "    \n",
    "    for pull in range(2,n_pulls+1):\n",
    "        R_pull = []\n",
    "        opt_arm_pull = 0\n",
    "        for task in range(n_tasks):\n",
    "            if random.random() < epsilon[eps]:\n",
    "                j = random.randint(k)\n",
    "            else:\n",
    "                j = np.argmax(Q[task])\n",
    "\n",
    "            if j = q_optimal[taks]:\n",
    "                opt_arm_pull = opt_arm_pull + 1\n",
    "            \n",
    "            target_R = np.random.normal(q[task][j], 1)\n",
    "            R_pull.append\n",
    "            N[task][j] = N[task][j] + 1\n",
    "            Q[task][j] = Q[task][j] + (target_R - Q[task][j])/N[task][j]\n",
    "            \n",
    "        avg_R_pull = np.mean(R_pull)\n",
    "        R_eps.append(avg_R_pull)\n",
    "    \n",
    "            \n",
    "            \n",
    "    \n",
    "    \n",
    "    \n",
    "    \n",
    "    \n"
   ]
  }
 ],
 "metadata": {
  "kernelspec": {
   "display_name": "Python 3",
   "language": "python",
   "name": "python3"
  },
  "language_info": {
   "codemirror_mode": {
    "name": "ipython",
    "version": 3
   },
   "file_extension": ".py",
   "mimetype": "text/x-python",
   "name": "python",
   "nbconvert_exporter": "python",
   "pygments_lexer": "ipython3",
   "version": "3.7.4"
  }
 },
 "nbformat": 4,
 "nbformat_minor": 2
}
